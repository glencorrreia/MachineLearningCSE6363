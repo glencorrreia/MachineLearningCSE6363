{
 "cells": [
  {
   "cell_type": "code",
   "execution_count": 1,
   "id": "44bb36d1",
   "metadata": {},
   "outputs": [],
   "source": [
    "from layer import Layer\n",
    "from scipy import signal\n",
    "import numpy as np\n",
    "\n",
    "## Math behind this layer can found at : \n",
    "## https://medium.com/@2017csm1006/forward-and-backpropagation-in-convolutional-neural-network-4dfa96d7b37e\n",
    "\n",
    "# inherit from base class Layer\n",
    "# This convolutional layer is always with stride 1\n",
    "class ConvLayer(Layer):\n",
    "    # input_shape = (i,j,d)\n",
    "    # kernel_shape = (m,n)\n",
    "    # layer_depth = output_depth\n",
    "    def __init__(self, input_shape, kernel_shape, layer_depth):\n",
    "        self.input_shape = input_shape\n",
    "        self.input_depth = input_shape[2]\n",
    "        self.kernel_shape = kernel_shape\n",
    "        self.layer_depth = layer_depth\n",
    "        self.output_shape = (input_shape[0]-kernel_shape[0]+1, input_shape[1]-kernel_shape[1]+1, layer_depth)\n",
    "        self.weights = np.random.rand(kernel_shape[0], kernel_shape[1], self.input_depth, layer_depth) - 0.5\n",
    "        self.bias = np.random.rand(layer_depth) - 0.5\n",
    "\n",
    "    # returns output for a given input\n",
    "    def forward_propagation(self, input):\n",
    "        self.input = input\n",
    "        self.output = np.zeros(self.output_shape)\n",
    "\n",
    "        for k in range(self.layer_depth):\n",
    "            for d in range(self.input_depth):\n",
    "                self.output[:,:,k] += signal.correlate2d(self.input[:,:,d], self.weights[:,:,d,k], 'valid') + self.bias[k]\n",
    "\n",
    "        return self.output\n",
    "\n",
    "    # computes dE/dW, dE/dB for a given output_error=dE/dY. Returns input_error=dE/dX.\n",
    "    def backward_propagation(self, output_error, learning_rate):\n",
    "        in_error = np.zeros(self.input_shape)\n",
    "        dWeights = np.zeros((self.kernel_shape[0], self.kernel_shape[1], self.input_depth, self.layer_depth))\n",
    "        dBias = np.zeros(self.layer_depth)\n",
    "\n",
    "        for k in range(self.layer_depth):\n",
    "            for d in range(self.input_depth):\n",
    "                in_error[:,:,d] += signal.convolve2d(output_error[:,:,k], self.weights[:,:,d,k], 'full')\n",
    "                dWeights[:,:,d,k] = signal.correlate2d(self.input[:,:,d], output_error[:,:,k], 'valid')\n",
    "            dBias[k] = self.layer_depth * np.sum(output_error[:,:,k])\n",
    "\n",
    "        self.weights -= learning_rate*dWeights\n",
    "        self.bias -= learning_rate*dBias\n",
    "        return in_error\n"
   ]
  },
  {
   "cell_type": "code",
   "execution_count": null,
   "id": "1ac2a537",
   "metadata": {},
   "outputs": [],
   "source": []
  }
 ],
 "metadata": {
  "kernelspec": {
   "display_name": "Python 3 (ipykernel)",
   "language": "python",
   "name": "python3"
  },
  "language_info": {
   "codemirror_mode": {
    "name": "ipython",
    "version": 3
   },
   "file_extension": ".py",
   "mimetype": "text/x-python",
   "name": "python",
   "nbconvert_exporter": "python",
   "pygments_lexer": "ipython3",
   "version": "3.9.7"
  }
 },
 "nbformat": 4,
 "nbformat_minor": 5
}
